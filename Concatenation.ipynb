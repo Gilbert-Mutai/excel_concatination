{
 "cells": [
  {
   "cell_type": "code",
   "execution_count": null,
   "id": "d62cd620",
   "metadata": {},
   "outputs": [],
   "source": [
    "import pandas as pd"
   ]
  },
  {
   "cell_type": "code",
   "execution_count": null,
   "id": "fa9ba309",
   "metadata": {},
   "outputs": [],
   "source": [
    "# Read the Excel files\n",
    "file_one = pd.read_excel('file_one.xlsx')\n",
    "file_two = pd.read_excel('file_two.xlsx')\n",
    "\n",
    "# Concatenate the two files\n",
    "concatenated_file = pd.concat([file_one, file_two])"
   ]
  },
  {
   "cell_type": "code",
   "execution_count": null,
   "id": "7b64e561",
   "metadata": {},
   "outputs": [],
   "source": [
    "# Save the concatenated file\n",
    "concatenated_file.to_excel('concatenated_file.xlsx', index=False)"
   ]
  }
 ],
 "metadata": {
  "kernelspec": {
   "display_name": "Python 3 (ipykernel)",
   "language": "python",
   "name": "python3"
  },
  "language_info": {
   "codemirror_mode": {
    "name": "ipython",
    "version": 3
   },
   "file_extension": ".py",
   "mimetype": "text/x-python",
   "name": "python",
   "nbconvert_exporter": "python",
   "pygments_lexer": "ipython3",
   "version": "3.9.12"
  }
 },
 "nbformat": 4,
 "nbformat_minor": 5
}
